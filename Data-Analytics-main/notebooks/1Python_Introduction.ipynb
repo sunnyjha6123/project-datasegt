{
  "cells": [
    {
      "cell_type": "markdown",
      "metadata": {
        "id": "PFhBAcWMLNQL"
      },
      "source": [
        "\n",
        "## Definition of Python\n",
        "\n",
        "Python is a high-level, interpreted, and general-purpose programming language. It was created by Guido van Rossum and first released in 1991. Python's design philosophy emphasizes code readability with its notable use of significant indentation. Its language constructs and object-oriented approach aim to help programmers write clear, logical code for small and large-scale projects.\n",
        "\n",
        "### Key Features of Python:\n",
        "- **Easy to Read, Learn, and Write**: Python has a simple syntax that is similar to English, making it easy to read and understand.\n",
        "- **Interpreted Language**: Python is processed at runtime by the interpreter, meaning you do not need to compile your program before executing it.\n",
        "- **Dynamically Typed**: You do not need to declare the type of variable because it is determined at runtime.\n",
        "- **Vast Standard Library**: Python has a rich standard library that supports many common programming tasks such as connecting to web servers, reading and modifying files, and more.\n",
        "- **Open Source**: Python is open-source and has a large community that contributes to its development and support.\n",
        "- **Portability**: Python code can run on various platforms without requiring any changes.\n",
        "- **Extensible**: You can add low-level modules to the Python interpreter, allowing programmers to add or customize their tools.\n",
        "\n",
        "### Common Uses of Python:\n",
        "- **Web Development**: Frameworks like Django and Flask.\n",
        "- **Data Science and Machine Learning**: Libraries like Pandas, NumPy, and Scikit-learn.\n",
        "- **Automation and Scripting**: Automating repetitive tasks.\n",
        "- **Software Development**: Building applications and software.\n",
        "- **Scientific Computing**: Libraries like SciPy and Matplotlib.\n",
        "- **Game Development**: Libraries like Pygame.\n",
        "\n",
        "\n"
      ]
    },
    {
      "cell_type": "code",
      "execution_count": null,
      "metadata": {
        "id": "lh4q0iKxLNQP",
        "outputId": "fa37ac85-1cba-4d31-8e91-9c3b4548ce92"
      },
      "outputs": [
        {
          "name": "stdout",
          "output_type": "stream",
          "text": [
            "Hello, World!\n"
          ]
        }
      ],
      "source": [
        "# first python program\n",
        "print(\"Hello, World!\")"
      ]
    },
    {
      "cell_type": "code",
      "execution_count": null,
      "metadata": {
        "id": "Ku3zx599LNQS",
        "outputId": "1a5dcd7a-236b-4c64-caa9-d3c00bac4173"
      },
      "outputs": [
        {
          "name": "stdout",
          "output_type": "stream",
          "text": [
            "75\n"
          ]
        }
      ],
      "source": [
        "a=75\n",
        "print(a)"
      ]
    },
    {
      "cell_type": "code",
      "execution_count": null,
      "metadata": {
        "id": "dfYfgwrxLNQS",
        "outputId": "663e86ed-9428-4450-a06a-cabac8ce1890"
      },
      "outputs": [
        {
          "name": "stdout",
          "output_type": "stream",
          "text": [
            "61\n"
          ]
        }
      ],
      "source": [
        "a=0o75\n",
        "print(a)"
      ]
    },
    {
      "cell_type": "code",
      "execution_count": null,
      "metadata": {
        "id": "DH2vFR_7LNQS",
        "outputId": "5c32abef-768a-4853-f43d-a33163ef2a26"
      },
      "outputs": [
        {
          "name": "stdout",
          "output_type": "stream",
          "text": [
            "Sum of 10 and 5 is 15\n"
          ]
        }
      ],
      "source": [
        "#sum of two numbers\n",
        "sum_ab = a + b\n",
        "print(f\"Sum of {a} and {b} is {sum_ab}\")"
      ]
    },
    {
      "cell_type": "code",
      "execution_count": null,
      "metadata": {
        "id": "noSW67lPLNQT",
        "outputId": "394a0b94-7379-4625-b911-471776099c66"
      },
      "outputs": [
        {
          "name": "stdout",
          "output_type": "stream",
          "text": [
            "Hello, World!\n"
          ]
        }
      ],
      "source": [
        "# single line comment\n",
        "print(\"Hello, World!\")"
      ]
    },
    {
      "cell_type": "code",
      "execution_count": null,
      "metadata": {
        "id": "MoFfXmBxLNQT",
        "outputId": "33ffaab4-0c86-4f49-f03c-8ff5ea715dc6"
      },
      "outputs": [
        {
          "name": "stdout",
          "output_type": "stream",
          "text": [
            "Hello, World!\n"
          ]
        }
      ],
      "source": [
        "\"\"\"\n",
        "Multi\n",
        "line\n",
        "comment\n",
        "\"\"\"\n",
        "print(\"Hello, World!\")"
      ]
    },
    {
      "cell_type": "code",
      "execution_count": null,
      "metadata": {
        "id": "Z5Rb38lQLNQT"
      },
      "outputs": [],
      "source": [
        "# Input and Output in Python\n",
        "\n",
        "# Input: Taking input from the user\n",
        "# The input() function reads a line from input, converts it to a string, and returns it.\n",
        "user_input = input(\"Enter something: \")\n",
        "print(f\"You entered: {user_input}\")\n",
        "\n",
        "# Output: Printing to the console\n",
        "# The print() function prints the specified message to the console or other standard output device.\n",
        "print(\"Hello, World!\")\n",
        "\n",
        "# Formatted Output\n",
        "# You can use formatted string literals (f-strings) to format output.\n",
        "name = \"Alice\"\n",
        "age = 25\n",
        "print(f\"My name is {name} and I am {age} years old.\")\n",
        "\n",
        "# You can also use the format() method for formatting strings.\n",
        "print(\"My name is {} and I am {} years old.\".format(name, age))\n",
        "\n",
        "# Another way to format strings is using the % operator.\n",
        "print(\"My name is %s and I am %d years old.\" % (name, age))"
      ]
    },
    {
      "cell_type": "code",
      "execution_count": null,
      "metadata": {
        "id": "5YlF0TdpLNQU"
      },
      "outputs": [],
      "source": []
    },
    {
      "cell_type": "markdown",
      "metadata": {
        "id": "rMFl93MFLNQU"
      },
      "source": [
        "## Data Types"
      ]
    },
    {
      "cell_type": "code",
      "execution_count": null,
      "metadata": {
        "id": "BwE5LYbaLNQU",
        "outputId": "3954d9a5-07a2-46cc-cb59-22d50458916f"
      },
      "outputs": [
        {
          "name": "stdout",
          "output_type": "stream",
          "text": [
            "int: 10, type: <class 'int'>\n",
            "float: 10.5, type: <class 'float'>\n",
            "complex: (1+2j), type: <class 'complex'>\n",
            "str: Hello, World!, type: <class 'str'>\n",
            "list: [1, 2, 3], type: <class 'list'>\n",
            "tuple: (1, 2, 3), type: <class 'tuple'>\n",
            "dict: {'name': 'Alice', 'age': 25}, type: <class 'dict'>\n",
            "set: {1, 2, 3}, type: <class 'set'>\n",
            "frozenset: frozenset({1, 2, 3}), type: <class 'frozenset'>\n",
            "bool: True, type: <class 'bool'>\n",
            "NoneType: None, type: <class 'NoneType'>\n"
          ]
        }
      ],
      "source": [
        "# Data Types in Python\n",
        "\n",
        "# In Python, every value has a data type. Here are some of the most commonly used data types:\n",
        "\n",
        "# 1. Numeric Types:\n",
        "# - int: Integer values, e.g., 10, -5, 0\n",
        "# - float: Floating-point values, e.g., 10.5, -3.14, 0.0\n",
        "# - complex: Complex numbers, e.g., 1+2j, -3+4j\n",
        "\n",
        "# 2. Sequence Types:\n",
        "# - str: String values, e.g., \"Hello, World!\", 'Python'\n",
        "# - list: Ordered collection of values, e.g., [1, 2, 3], ['a', 'b', 'c']\n",
        "# - tuple: Ordered, immutable collection of values, e.g., (1, 2, 3), ('a', 'b', 'c')\n",
        "\n",
        "# 3. Mapping Type:\n",
        "# - dict: Collection of key-value pairs, e.g., {'name': 'Alice', 'age': 25}\n",
        "\n",
        "# 4. Set Types:\n",
        "# - set: Unordered collection of unique values, e.g., {1, 2, 3}, {'a', 'b', 'c'}\n",
        "# - frozenset: Immutable version of set, e.g., frozenset({1, 2, 3})\n",
        "\n",
        "# 5. Boolean Type:\n",
        "# - bool: Boolean values, e.g., True, False\n",
        "\n",
        "# 6. None Type:\n",
        "# - NoneType: Represents the absence of a value, e.g., None\n",
        "\n",
        "# Examples:\n",
        "# Numeric Types\n",
        "int_value = 10\n",
        "float_value = 10.5\n",
        "complex_value = 1 + 2j\n",
        "\n",
        "# Sequence Types\n",
        "string_value = \"Hello, World!\"\n",
        "list_value = [1, 2, 3]\n",
        "tuple_value = (1, 2, 3)\n",
        "\n",
        "# Mapping Type\n",
        "dict_value = {'name': 'Alice', 'age': 25}\n",
        "\n",
        "# Set Types\n",
        "set_value = {1, 2, 3}\n",
        "frozenset_value = frozenset({1, 2, 3})\n",
        "\n",
        "# Boolean Type\n",
        "bool_value = True\n",
        "\n",
        "# None Type\n",
        "none_value = None\n",
        "\n",
        "# Print examples\n",
        "print(f\"int: {int_value}, type: {type(int_value)}\")\n",
        "print(f\"float: {float_value}, type: {type(float_value)}\")\n",
        "print(f\"complex: {complex_value}, type: {type(complex_value)}\")\n",
        "print(f\"str: {string_value}, type: {type(string_value)}\")\n",
        "print(f\"list: {list_value}, type: {type(list_value)}\")\n",
        "print(f\"tuple: {tuple_value}, type: {type(tuple_value)}\")\n",
        "print(f\"dict: {dict_value}, type: {type(dict_value)}\")\n",
        "print(f\"set: {set_value}, type: {type(set_value)}\")\n",
        "print(f\"frozenset: {frozenset_value}, type: {type(frozenset_value)}\")\n",
        "print(f\"bool: {bool_value}, type: {type(bool_value)}\")\n",
        "print(f\"NoneType: {none_value}, type: {type(none_value)}\")"
      ]
    },
    {
      "cell_type": "markdown",
      "metadata": {
        "id": "edseAp7kLNQV"
      },
      "source": [
        "## Operators"
      ]
    },
    {
      "cell_type": "code",
      "execution_count": null,
      "metadata": {
        "id": "NmFmge77LNQV",
        "outputId": "ba1caf55-f54b-49b0-d187-934a20539763"
      },
      "outputs": [
        {
          "name": "stdout",
          "output_type": "stream",
          "text": [
            "Addition: 10 + 5 = 15\n",
            "Subtraction: 10 - 5 = 5\n",
            "Multiplication: 10 * 5 = 50\n",
            "Division: 10 / 5 = 2.0\n",
            "Modulus: 10 % 5 = 0\n",
            "Exponentiation: 10 ** 5 = 100000\n",
            "Floor Division: 10 // 5 = 2\n"
          ]
        }
      ],
      "source": [
        "# Arithmetic Operators in Python\n",
        "\n",
        "# Addition\n",
        "a = 10\n",
        "b = 5\n",
        "addition = a + b\n",
        "print(f\"Addition: {a} + {b} = {addition}\")\n",
        "\n",
        "# Subtraction\n",
        "subtraction = a - b\n",
        "print(f\"Subtraction: {a} - {b} = {subtraction}\")\n",
        "\n",
        "# Multiplication\n",
        "multiplication = a * b\n",
        "print(f\"Multiplication: {a} * {b} = {multiplication}\")\n",
        "\n",
        "# Division\n",
        "division = a / b\n",
        "print(f\"Division: {a} / {b} = {division}\")\n",
        "\n",
        "# Modulus\n",
        "modulus = a % b\n",
        "print(f\"Modulus: {a} % {b} = {modulus}\")\n",
        "\n",
        "# Exponentiation\n",
        "exponentiation = a ** b\n",
        "print(f\"Exponentiation: {a} ** {b} = {exponentiation}\")\n",
        "\n",
        "# Floor Division\n",
        "floor_division = a // b\n",
        "print(f\"Floor Division: {a} // {b} = {floor_division}\")"
      ]
    },
    {
      "cell_type": "code",
      "execution_count": null,
      "metadata": {
        "id": "Xit_SgKsLNQV",
        "outputId": "2d9ec6af-b3d3-4f43-df27-f5d14430d391"
      },
      "outputs": [
        {
          "name": "stdout",
          "output_type": "stream",
          "text": [
            "Greater than: 10 > 5 = True\n",
            "Less than: 10 < 5 = False\n",
            "Equal to: 10 == 5 = False\n",
            "Not equal to: 10 != 5 = True\n",
            "Greater than or equal to: 10 >= 5 = True\n",
            "Less than or equal to: 10 <= 5 = False\n"
          ]
        }
      ],
      "source": [
        "# Relational Operators in Python\n",
        "\n",
        "# Greater than\n",
        "greater_than = a > b\n",
        "print(f\"Greater than: {a} > {b} = {greater_than}\")\n",
        "\n",
        "# Less than\n",
        "less_than = a < b\n",
        "print(f\"Less than: {a} < {b} = {less_than}\")\n",
        "\n",
        "# Equal to\n",
        "equal_to = a == b\n",
        "print(f\"Equal to: {a} == {b} = {equal_to}\")\n",
        "\n",
        "# Not equal to\n",
        "not_equal_to = a != b\n",
        "print(f\"Not equal to: {a} != {b} = {not_equal_to}\")\n",
        "\n",
        "# Greater than or equal to\n",
        "greater_than_or_equal_to = a >= b\n",
        "print(f\"Greater than or equal to: {a} >= {b} = {greater_than_or_equal_to}\")\n",
        "\n",
        "# Less than or equal to\n",
        "less_than_or_equal_to = a <= b\n",
        "print(f\"Less than or equal to: {a} <= {b} = {less_than_or_equal_to}\")"
      ]
    },
    {
      "cell_type": "code",
      "execution_count": null,
      "metadata": {
        "id": "4iHhZyatLNQW",
        "outputId": "629a8882-3d75-41ed-e746-004be0441dfa"
      },
      "outputs": [
        {
          "name": "stdout",
          "output_type": "stream",
          "text": [
            "Assign: c = 10\n",
            "Add and assign: c += 5 -> 15\n",
            "Subtract and assign: c -= 3 -> 12\n",
            "Multiply and assign: c *= 2 -> 24\n",
            "Divide and assign: c /= 4 -> 6.0\n",
            "Modulus and assign: c %= 3 -> 0.0\n",
            "Exponentiation and assign: c **= 2 -> 0.0\n",
            "Floor division and assign: c //= 2 -> 0.0\n"
          ]
        }
      ],
      "source": [
        "# Assignment Operators in Python\n",
        "\n",
        "# Assign value\n",
        "c = 10\n",
        "print(f\"Assign: c = {c}\")\n",
        "\n",
        "# Add and assign\n",
        "c += 5\n",
        "print(f\"Add and assign: c += 5 -> {c}\")\n",
        "\n",
        "# Subtract and assign\n",
        "c -= 3\n",
        "print(f\"Subtract and assign: c -= 3 -> {c}\")\n",
        "\n",
        "# Multiply and assign\n",
        "c *= 2\n",
        "print(f\"Multiply and assign: c *= 2 -> {c}\")\n",
        "\n",
        "# Divide and assign\n",
        "c /= 4\n",
        "print(f\"Divide and assign: c /= 4 -> {c}\")\n",
        "\n",
        "# Modulus and assign\n",
        "c %= 3\n",
        "print(f\"Modulus and assign: c %= 3 -> {c}\")\n",
        "\n",
        "# Exponentiation and assign\n",
        "c **= 2\n",
        "print(f\"Exponentiation and assign: c **= 2 -> {c}\")\n",
        "\n",
        "# Floor division and assign\n",
        "c //= 2\n",
        "print(f\"Floor division and assign: c //= 2 -> {c}\")"
      ]
    },
    {
      "cell_type": "code",
      "execution_count": null,
      "metadata": {
        "id": "hR4sVZW0LNQW",
        "outputId": "cb469238-fead-440e-ab71-585a6fe18758"
      },
      "outputs": [
        {
          "name": "stdout",
          "output_type": "stream",
          "text": [
            "Logical AND: (10 > 5) and (5 > 0) = True\n",
            "Logical OR: (10 > 5) or (5 > 10) = True\n",
            "Logical NOT: not (10 > 5) = False\n"
          ]
        }
      ],
      "source": [
        "# Logical Operators in Python\n",
        "\n",
        "# Logical AND\n",
        "logical_and = (a > b) and (b > 0)\n",
        "print(f\"Logical AND: ({a} > {b}) and ({b} > 0) = {logical_and}\")\n",
        "\n",
        "# Logical OR\n",
        "logical_or = (a > b) or (b > 10)\n",
        "print(f\"Logical OR: ({a} > {b}) or ({b} > 10) = {logical_or}\")\n",
        "\n",
        "# Logical NOT\n",
        "logical_not = not (a > b)\n",
        "print(f\"Logical NOT: not ({a} > {b}) = {logical_not}\")"
      ]
    },
    {
      "cell_type": "code",
      "execution_count": null,
      "metadata": {
        "id": "h0_eGQwwLNQW",
        "outputId": "f6d32af5-1635-442c-e71a-d092e226f4ae"
      },
      "outputs": [
        {
          "name": "stdout",
          "output_type": "stream",
          "text": [
            "Bitwise AND: 10 & 5 = 0\n",
            "Bitwise OR: 10 | 5 = 15\n",
            "Bitwise XOR: 10 ^ 5 = 15\n",
            "Bitwise NOT: ~10 = -11\n",
            "Bitwise Left Shift: 10 << 1 = 20\n",
            "Bitwise Right Shift: 10 >> 1 = 5\n"
          ]
        }
      ],
      "source": [
        "# Bitwise Operators in Python\n",
        "\n",
        "# Bitwise AND\n",
        "result_and = a & b  # 0000 in binary, which is 0 in decimal\n",
        "print(f\"Bitwise AND: {a} & {b} = {result_and}\")\n",
        "\n",
        "# Bitwise OR\n",
        "result_or = a | b  # 1111 in binary, which is 15 in decimal\n",
        "print(f\"Bitwise OR: {a} | {b} = {result_or}\")\n",
        "\n",
        "# Bitwise XOR\n",
        "result_xor = a ^ b  # 1111 in binary, which is 15 in decimal\n",
        "print(f\"Bitwise XOR: {a} ^ {b} = {result_xor}\")\n",
        "\n",
        "# Bitwise NOT\n",
        "result_not = ~a  # 0101 in binary, which is -11 in decimal (two's complement)\n",
        "print(f\"Bitwise NOT: ~{a} = {result_not}\")\n",
        "\n",
        "# Bitwise Left Shift\n",
        "result_left_shift = a << 1  # 10100 in binary, which is 20 in decimal\n",
        "print(f\"Bitwise Left Shift: {a} << 1 = {result_left_shift}\")\n",
        "\n",
        "# Bitwise Right Shift\n",
        "result_right_shift = a >> 1  # 0101 in binary, which is 5 in decimal\n",
        "print(f\"Bitwise Right Shift: {a} >> 1 = {result_right_shift}\")\n"
      ]
    },
    {
      "cell_type": "code",
      "execution_count": null,
      "metadata": {
        "id": "oCV3ikOILNQW",
        "outputId": "7853d126-14a6-44d0-c8f5-b2af1f28d767"
      },
      "outputs": [
        {
          "name": "stdout",
          "output_type": "stream",
          "text": [
            "'10' in [1, 2, 3, 4, 5] = False\n",
            "'5' not in [1, 2, 3, 4, 5] = False\n"
          ]
        }
      ],
      "source": [
        "# Membership Operators in Python\n",
        "\n",
        "# Define a list\n",
        "sample_list = [1, 2, 3, 4, 5]\n",
        "\n",
        "# 'in' operator\n",
        "in_operator = a in sample_list\n",
        "print(f\"'{a}' in {sample_list} = {in_operator}\")\n",
        "\n",
        "# 'not in' operator\n",
        "not_in_operator = b not in sample_list\n",
        "print(f\"'{b}' not in {sample_list} = {not_in_operator}\")"
      ]
    },
    {
      "cell_type": "code",
      "execution_count": null,
      "metadata": {
        "id": "zQQ1ZriZLNQX",
        "outputId": "28f6e03b-f741-4e26-ac43-57438a9a8b73"
      },
      "outputs": [
        {
          "name": "stdout",
          "output_type": "stream",
          "text": [
            "'10' is '5' = False\n",
            "'10' is not '5' = True\n"
          ]
        }
      ],
      "source": [
        "# Identity Operators in Python\n",
        "\n",
        "# 'is' operator\n",
        "is_operator = a is b\n",
        "print(f\"'{a}' is '{b}' = {is_operator}\")\n",
        "\n",
        "# 'is not' operator\n",
        "is_not_operator = a is not b\n",
        "print(f\"'{a}' is not '{b}' = {is_not_operator}\")"
      ]
    },
    {
      "cell_type": "code",
      "execution_count": null,
      "metadata": {
        "id": "5Ik39tNULNQX"
      },
      "outputs": [],
      "source": []
    },
    {
      "cell_type": "code",
      "execution_count": null,
      "metadata": {
        "id": "aG_WI6rJLNQX"
      },
      "outputs": [],
      "source": []
    },
    {
      "cell_type": "code",
      "execution_count": null,
      "metadata": {
        "id": "5k6aJ4EvLNQX"
      },
      "outputs": [],
      "source": []
    }
  ],
  "metadata": {
    "kernelspec": {
      "display_name": ".venv",
      "language": "python",
      "name": "python3"
    },
    "language_info": {
      "codemirror_mode": {
        "name": "ipython",
        "version": 3
      },
      "file_extension": ".py",
      "mimetype": "text/x-python",
      "name": "python",
      "nbconvert_exporter": "python",
      "pygments_lexer": "ipython3",
      "version": "3.10.1"
    },
    "colab": {
      "provenance": []
    }
  },
  "nbformat": 4,
  "nbformat_minor": 0
}
