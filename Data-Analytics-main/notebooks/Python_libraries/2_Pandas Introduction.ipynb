{
  "nbformat": 4,
  "nbformat_minor": 0,
  "metadata": {
    "colab": {
      "provenance": []
    },
    "kernelspec": {
      "name": "python3",
      "display_name": "Python 3"
    },
    "language_info": {
      "name": "python"
    }
  },
  "cells": [
    {
      "cell_type": "markdown",
      "source": [
        "# **Pandas**\n"
      ],
      "metadata": {
        "id": "jOExx77vQJlX"
      }
    },
    {
      "cell_type": "markdown",
      "source": [
        "# What is Pandas?\n",
        "\n",
        "*   A Python library for data manipulation and analysis\n",
        "*   Works with structured data like tables (Excel, CSV, SQL)\n",
        "*   built on Numpy\n",
        "\n",
        "\n",
        "# Why Pandas?\n",
        "* Easy: Like working with Excel\n",
        "* Fast: Handles large datasets efficiently\n",
        "* Powerful: Data cleaning, transformation, analysis, visualization\n",
        "\n",
        "\n"
      ],
      "metadata": {
        "id": "varPafQwQcD8"
      }
    },
    {
      "cell_type": "code",
      "execution_count": null,
      "metadata": {
        "id": "n-qhscTJQIvH"
      },
      "outputs": [],
      "source": [
        "#import library\n",
        "import pandas as pd\n"
      ]
    },
    {
      "cell_type": "markdown",
      "source": [
        "# Pandas data structures : **Series**\n",
        "* A Series is like a column of a table.\n",
        "* labeled data\n",
        "* Created from a list, dictionary, or array.\n",
        "\n",
        "example: \"A Pandas Series is like a local shopkeeper’s daily record of sales, where he writes the number of icecream sold each day!\""
      ],
      "metadata": {
        "id": "KbNh9CvvTZuP"
      }
    },
    {
      "cell_type": "code",
      "source": [
        "import numpy as np\n",
        "n=np.array([10,20,30,40,50])\n",
        "print(n)"
      ],
      "metadata": {
        "colab": {
          "base_uri": "https://localhost:8080/"
        },
        "id": "cY7S0xUg4G46",
        "outputId": "82a5f775-6b7a-4129-f72c-a5acd2b23841"
      },
      "execution_count": null,
      "outputs": [
        {
          "output_type": "stream",
          "name": "stdout",
          "text": [
            "[10 20 30 40 50]\n"
          ]
        }
      ]
    },
    {
      "cell_type": "code",
      "source": [
        "s=pd.Series([10,20,30,40,50],index=['a','b','c','d','e'])\n",
        "print(s)"
      ],
      "metadata": {
        "colab": {
          "base_uri": "https://localhost:8080/"
        },
        "id": "Xuq0i_yE3-Lu",
        "outputId": "e2df8d8d-85d1-4d07-d145-c0156b825e61"
      },
      "execution_count": null,
      "outputs": [
        {
          "output_type": "stream",
          "name": "stdout",
          "text": [
            "a    10\n",
            "b    20\n",
            "c    30\n",
            "d    40\n",
            "e    50\n",
            "dtype: int64\n"
          ]
        }
      ]
    },
    {
      "cell_type": "code",
      "source": [
        "IceCream_sales = pd.Series([50, 65, 70, 85, 90, 120, 150],\n",
        "                        index=[\"Monday\", \"Tuesday\", \"Wednesday\", \"Thursday\", \"Friday\", \"Saturday\", \"Sunday\"])\n",
        "print(IceCream_sales)\n"
      ],
      "metadata": {
        "colab": {
          "base_uri": "https://localhost:8080/"
        },
        "id": "AFwlgxajQbrV",
        "outputId": "3bdc7371-abe8-4775-f3a1-72cda8f5bf88"
      },
      "execution_count": null,
      "outputs": [
        {
          "output_type": "stream",
          "name": "stdout",
          "text": [
            "Monday        50\n",
            "Tuesday       65\n",
            "Wednesday     70\n",
            "Thursday      85\n",
            "Friday        90\n",
            "Saturday     120\n",
            "Sunday       150\n",
            "dtype: int64\n"
          ]
        }
      ]
    },
    {
      "cell_type": "code",
      "source": [
        "# Create a series with dictionary\n",
        "data = {'a': 10, 'b': 20, 'c': 30, 'd': 40}\n",
        "series = pd.Series(data)\n",
        "\n",
        "print(series)\n"
      ],
      "metadata": {
        "colab": {
          "base_uri": "https://localhost:8080/"
        },
        "id": "1fXZQ6kJWtgM",
        "outputId": "1fd9d488-6c3e-48cc-e8ea-e23a8795c189"
      },
      "execution_count": null,
      "outputs": [
        {
          "output_type": "stream",
          "name": "stdout",
          "text": [
            "a    10\n",
            "b    20\n",
            "c    30\n",
            "d    40\n",
            "dtype: int64\n"
          ]
        }
      ]
    },
    {
      "cell_type": "code",
      "source": [],
      "metadata": {
        "id": "mN1CeOsyWlpr"
      },
      "execution_count": null,
      "outputs": []
    },
    {
      "cell_type": "markdown",
      "source": [
        "# Pandas data structures : DataFrame\n",
        "* A DataFrame is like an entire Excel sheet or a table in SQL.\n",
        "* Created from dictionaries, lists, or CSV files.\n",
        "* rows have indices\n",
        "* columns have column name\n",
        "\n",
        "example: \"A Pandas DataFrame is like a restaurant’s menu, where each row is a dish and columns represent price and quantity sold.\""
      ],
      "metadata": {
        "id": "VVPKLJktVc0n"
      }
    },
    {
      "cell_type": "code",
      "source": [
        "data = {\n",
        "    \"Food_Item\": [\"Litti Chokha\", \"Samosa\", \"Jalebi\", \"kachori\"],\n",
        "    \"Price (₹)\": [30, 10, 20, 25],\n",
        "    \"Sold_Quantity\": [100, 200, 150, 120]\n",
        "}\n",
        "df = pd.DataFrame(data,index=(1,2,3,4))\n",
        "print(df)\n",
        "df.to_csv(\"store.csv\")\n"
      ],
      "metadata": {
        "colab": {
          "base_uri": "https://localhost:8080/"
        },
        "id": "FZtbBuPdQgWD",
        "outputId": "a0d5ae16-6ee4-4df0-aaf3-a5c1be81dad3"
      },
      "execution_count": null,
      "outputs": [
        {
          "output_type": "stream",
          "name": "stdout",
          "text": [
            "      Food_Item  Price (₹)  Sold_Quantity\n",
            "1  Litti Chokha         30            100\n",
            "2        Samosa         10            200\n",
            "3        Jalebi         20            150\n",
            "4       kachori         25            120\n"
          ]
        }
      ]
    },
    {
      "cell_type": "code",
      "source": [
        "df.iloc[2]\n"
      ],
      "metadata": {
        "id": "xI-weYnGY1tr",
        "colab": {
          "base_uri": "https://localhost:8080/",
          "height": 178
        },
        "outputId": "5baab8c4-cbf1-409e-e1e9-810e956509d2"
      },
      "execution_count": null,
      "outputs": [
        {
          "output_type": "execute_result",
          "data": {
            "text/plain": [
              "Food_Item        Jalebi\n",
              "Price (₹)            20\n",
              "Sold_Quantity       150\n",
              "Name: 3, dtype: object"
            ],
            "text/html": [
              "<div>\n",
              "<style scoped>\n",
              "    .dataframe tbody tr th:only-of-type {\n",
              "        vertical-align: middle;\n",
              "    }\n",
              "\n",
              "    .dataframe tbody tr th {\n",
              "        vertical-align: top;\n",
              "    }\n",
              "\n",
              "    .dataframe thead th {\n",
              "        text-align: right;\n",
              "    }\n",
              "</style>\n",
              "<table border=\"1\" class=\"dataframe\">\n",
              "  <thead>\n",
              "    <tr style=\"text-align: right;\">\n",
              "      <th></th>\n",
              "      <th>3</th>\n",
              "    </tr>\n",
              "  </thead>\n",
              "  <tbody>\n",
              "    <tr>\n",
              "      <th>Food_Item</th>\n",
              "      <td>Jalebi</td>\n",
              "    </tr>\n",
              "    <tr>\n",
              "      <th>Price (₹)</th>\n",
              "      <td>20</td>\n",
              "    </tr>\n",
              "    <tr>\n",
              "      <th>Sold_Quantity</th>\n",
              "      <td>150</td>\n",
              "    </tr>\n",
              "  </tbody>\n",
              "</table>\n",
              "</div><br><label><b>dtype:</b> object</label>"
            ]
          },
          "metadata": {},
          "execution_count": 10
        }
      ]
    },
    {
      "cell_type": "markdown",
      "source": [
        "\n"
      ],
      "metadata": {
        "id": "YagWWAQcY3N6"
      }
    },
    {
      "cell_type": "code",
      "source": [],
      "metadata": {
        "id": "5r2E4htIRJLl"
      },
      "execution_count": null,
      "outputs": []
    }
  ]
}