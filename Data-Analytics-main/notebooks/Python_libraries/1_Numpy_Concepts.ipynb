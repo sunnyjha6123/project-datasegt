{
  "cells": [
    {
      "cell_type": "markdown",
      "metadata": {
        "id": "Cat-uY4j4pxw"
      },
      "source": [
        "# **NumPy**\n",
        "### What is NumPy?\n",
        "\n",
        "- NumPy (Numerical Python) is a powerful library in Python used for numerical computing. \n",
        "- It provides fast, memory-efficient arrays and mathematical functions to handle large datasets.\n",
        "\n",
        "### Why use NumPy?\n",
        "\n",
        "- Faster than Python lists (uses C under the hood)\n",
        "- Memory-efficient (stores data compactly)\n",
        "- Supports mathematical operations (vectorized operations)\n",
        "- Can handle large datasets efficiently\n",
        "- Used in Data Science, Machine Learning, Image Processing, and more\n",
        "\n",
        "### Real-Life Connection\n",
        "\n",
        "- Think of NumPy as the \"sattu\" of data analysis—compact, powerful, and essential for every data meal!\n",
        "\n"
      ]
    },
    {
      "cell_type": "markdown",
      "metadata": {},
      "source": [
        "#### How to Install Numpy\n",
        "Run the following command in your terminal or command prompt:\n",
        "\n",
        "`pip install numpy`"
      ]
    },
    {
      "cell_type": "markdown",
      "metadata": {},
      "source": [
        "#### Importing NumPy\n",
        "Before using NumPy, import it as:"
      ]
    },
    {
      "cell_type": "code",
      "execution_count": 2,
      "metadata": {
        "id": "PN5CW9OP5LTy"
      },
      "outputs": [],
      "source": [
        "import numpy as np"
      ]
    },
    {
      "cell_type": "markdown",
      "metadata": {},
      "source": [
        "Why Use `import numpy as np`?\n",
        "- Saves typing time – Instead of writing numpy.array(), we can just write np.array().\n",
        "- Follows community standard – Most programmers use np as the convention.\n",
        "- Improves code readability – Shorter function names make the code cleaner and easier to read."
      ]
    },
    {
      "cell_type": "markdown",
      "metadata": {},
      "source": [
        "#### NumPy vs List Performance\n",
        "\n",
        "- NumPy is significantly faster than lists due to vectorized operations"
      ]
    },
    {
      "cell_type": "code",
      "execution_count": 3,
      "metadata": {},
      "outputs": [
        {
          "name": "stdout",
          "output_type": "stream",
          "text": [
            "List Time: 0.08751606941223145\n",
            "NumPy Time: 0.0\n"
          ]
        }
      ],
      "source": [
        "import time\n",
        "\n",
        "size = 1000000\n",
        "list1 = list(range(size))\n",
        "list2 = list(range(size))\n",
        "\n",
        "arr1 = np.array(list1)\n",
        "arr2 = np.array(list2)\n",
        "\n",
        "# List Addition\n",
        "start = time.time()\n",
        "result_list = [x + y for x, y in zip(list1, list2)]\n",
        "print(\"List Time:\", time.time() - start)\n",
        "\n",
        "# NumPy Array Addition\n",
        "start = time.time()\n",
        "result_array = arr1 + arr2\n",
        "print(\"NumPy Time:\", time.time() - start)"
      ]
    },
    {
      "cell_type": "markdown",
      "metadata": {},
      "source": [
        "### What is a NumPy Array?\n",
        "A NumPy array (ndarray) is a fast, memory-efficient way to store and manipulate numerical data. Unlike Python lists, NumPy arrays provide:\n",
        "- Faster operations (because of vectorization)\n",
        "- Less memory consumption (compact storage)\n",
        "- Support for mathematical computations"
      ]
    },
    {
      "cell_type": "markdown",
      "metadata": {
        "id": "bgTi_RgAuPhk"
      },
      "source": [
        "### **create numpy array**\n"
      ]
    },
    {
      "cell_type": "code",
      "execution_count": 6,
      "metadata": {
        "colab": {
          "base_uri": "https://localhost:8080/"
        },
        "id": "YDToaMbB5RFR",
        "outputId": "f308d012-f14e-46ac-c2ac-c164e21c669b"
      },
      "outputs": [
        {
          "name": "stdout",
          "output_type": "stream",
          "text": [
            "[1 2 3 4 5]\n",
            "<class 'numpy.ndarray'>\n",
            "(5,)\n"
          ]
        }
      ],
      "source": [
        "# 1D array (vector)\n",
        "arr1 = np.array([1, 2, 3, 4, 5])  \n",
        "print(arr1) \n",
        "print(type(arr1))\n",
        "print(arr1.shape)\n"
      ]
    },
    {
      "cell_type": "code",
      "execution_count": 7,
      "metadata": {
        "colab": {
          "base_uri": "https://localhost:8080/"
        },
        "id": "b86lzC1Es2SK",
        "outputId": "d2d85d67-f011-4dbb-d867-1001d507fc61"
      },
      "outputs": [
        {
          "name": "stdout",
          "output_type": "stream",
          "text": [
            "[[1 2 3]\n",
            " [4 5 6]]\n",
            "<class 'numpy.ndarray'>\n",
            "(2, 3)\n"
          ]
        }
      ],
      "source": [
        "# 2D array (Matrix)\n",
        "arr2 = np.array([[1, 2, 3], [4, 5, 6]])  \n",
        "print(arr2)\n",
        "print(type(arr2))\n",
        "print(arr2.shape)"
      ]
    },
    {
      "cell_type": "code",
      "execution_count": 8,
      "metadata": {},
      "outputs": [
        {
          "name": "stdout",
          "output_type": "stream",
          "text": [
            "[[[1 2]\n",
            "  [3 4]]\n",
            "\n",
            " [[5 6]\n",
            "  [7 8]]]\n",
            "<class 'numpy.ndarray'>\n",
            "(2, 2, 2)\n"
          ]
        }
      ],
      "source": [
        "# 3D array (Tensor)\n",
        "arr3 = np.array([[[1, 2], [3, 4]], [[5, 6], [7, 8]]])\n",
        "print(arr3)\n",
        "print(type(arr3))\n",
        "print(arr3.shape)"
      ]
    },
    {
      "cell_type": "markdown",
      "metadata": {
        "id": "YMWaAWgpu29P"
      },
      "source": [
        "## Array Attributes\n",
        "- **shape**: Returns a tuple that represents the size of the array along each dimension.\n",
        "- **size**: Returns the total number of elements in the array\n",
        "- **ndim**: Returns the number of dimensions (axes) of the array\n",
        "- **dtypes**: Returns the data type of array elements"
      ]
    },
    {
      "cell_type": "code",
      "execution_count": 9,
      "metadata": {
        "colab": {
          "base_uri": "https://localhost:8080/"
        },
        "id": "mDZSG_1Uuqxw",
        "outputId": "f172b3d9-3be8-4ac0-a2d2-257a5edf9298"
      },
      "outputs": [
        {
          "name": "stdout",
          "output_type": "stream",
          "text": [
            "(2, 3)\n",
            "6\n",
            "2\n",
            "int64\n"
          ]
        }
      ],
      "source": [
        "arr = np.array([[1, 2, 3], [4, 5, 6]])\n",
        "print(arr.shape)   \n",
        "print(arr.size)    \n",
        "print(arr.ndim)   \n",
        "print(arr.dtype) "
      ]
    },
    {
      "cell_type": "markdown",
      "metadata": {},
      "source": [
        "#### Special Arrays in NumPy"
      ]
    },
    {
      "cell_type": "code",
      "execution_count": 11,
      "metadata": {},
      "outputs": [
        {
          "name": "stdout",
          "output_type": "stream",
          "text": [
            "[[0. 0. 0.]\n",
            " [0. 0. 0.]]\n"
          ]
        }
      ],
      "source": [
        "# array of zeros\n",
        "arr = np.zeros((2, 3))\n",
        "print(arr)"
      ]
    },
    {
      "cell_type": "code",
      "execution_count": 12,
      "metadata": {},
      "outputs": [
        {
          "name": "stdout",
          "output_type": "stream",
          "text": [
            "[[1. 1. 1.]\n",
            " [1. 1. 1.]]\n"
          ]
        }
      ],
      "source": [
        "# array of ones\n",
        "arr = np.ones((2, 3))  \n",
        "print(arr)"
      ]
    },
    {
      "cell_type": "code",
      "execution_count": 13,
      "metadata": {},
      "outputs": [
        {
          "name": "stdout",
          "output_type": "stream",
          "text": [
            "[[5 5 5]\n",
            " [5 5 5]]\n"
          ]
        }
      ],
      "source": [
        "# array of constants\n",
        "arr = np.full((2, 3), 5)\n",
        "print(arr)"
      ]
    },
    {
      "cell_type": "code",
      "execution_count": 14,
      "metadata": {},
      "outputs": [
        {
          "name": "stdout",
          "output_type": "stream",
          "text": [
            "[[1. 0. 0.]\n",
            " [0. 1. 0.]\n",
            " [0. 0. 1.]]\n"
          ]
        }
      ],
      "source": [
        "# identity matrix\n",
        "arr = np.eye(3)\n",
        "print(arr)"
      ]
    },
    {
      "cell_type": "code",
      "execution_count": null,
      "metadata": {},
      "outputs": [
        {
          "name": "stdout",
          "output_type": "stream",
          "text": [
            "[1 3 5 7 9]\n"
          ]
        }
      ],
      "source": [
        "# evenly spaced\n",
        "# using arange function: (Similar to range but returns NumPy array)\n",
        "arr = np.arange(1, 10, 2)\n",
        "print(arr)"
      ]
    },
    {
      "cell_type": "code",
      "execution_count": 18,
      "metadata": {},
      "outputs": [
        {
          "name": "stdout",
          "output_type": "stream",
          "text": [
            "[ 1.    3.25  5.5   7.75 10.  ]\n"
          ]
        }
      ],
      "source": [
        "# linearly spaced numbers\n",
        "# using linspace function\n",
        "arr = np.linspace(1, 10, 5)\n",
        "print(arr)"
      ]
    },
    {
      "cell_type": "markdown",
      "metadata": {
        "id": "I1di8nv_udqi"
      },
      "source": [
        "### Reshaping Array\n",
        "**reshape : to change the shape of array**"
      ]
    },
    {
      "cell_type": "code",
      "execution_count": 19,
      "metadata": {},
      "outputs": [
        {
          "name": "stdout",
          "output_type": "stream",
          "text": [
            "[[1 2 3]\n",
            " [4 5 6]]\n"
          ]
        }
      ],
      "source": [
        "arr = np.array([1, 2, 3, 4, 5, 6])\n",
        "arr_reshaped = arr.reshape(2, 3)  \n",
        "print(arr_reshaped)"
      ]
    },
    {
      "cell_type": "markdown",
      "metadata": {},
      "source": [
        "#### Accessing Elements in NumPy Arrays\n",
        "- NumPy uses zero-based indexing (just like Python lists).\n",
        "- Syntax: `array[row, column]` for 2D arrays."
      ]
    },
    {
      "cell_type": "code",
      "execution_count": 20,
      "metadata": {},
      "outputs": [
        {
          "name": "stdout",
          "output_type": "stream",
          "text": [
            "10\n",
            "30\n",
            "50\n"
          ]
        }
      ],
      "source": [
        "#1D array\n",
        "arr = np.array([10, 20, 30, 40, 50])\n",
        "print(arr[0])  \n",
        "print(arr[2])  \n",
        "print(arr[-1])"
      ]
    },
    {
      "cell_type": "code",
      "execution_count": 21,
      "metadata": {},
      "outputs": [
        {
          "name": "stdout",
          "output_type": "stream",
          "text": [
            "2\n",
            "9\n"
          ]
        }
      ],
      "source": [
        "#2D array\n",
        "matrix = np.array([[1, 2, 3], \n",
        "                   [4, 5, 6], \n",
        "                   [7, 8, 9]])\n",
        "\n",
        "print(matrix[0, 1])  \n",
        "print(matrix[2, -1])"
      ]
    },
    {
      "cell_type": "markdown",
      "metadata": {},
      "source": [
        "#### Slicing Arrays (Extracting Subarrays)\n",
        "- Syntax: `array[start:stop:step]` (same as Python lists)\n",
        "- For 2D arrays: `array[row_start:row_stop, col_start:col_stop]`"
      ]
    },
    {
      "cell_type": "code",
      "execution_count": 22,
      "metadata": {},
      "outputs": [
        {
          "name": "stdout",
          "output_type": "stream",
          "text": [
            "[20 30 40]\n",
            "[10 20 30]\n",
            "[10 30 50]\n",
            "[60 50 40 30 20 10]\n"
          ]
        }
      ],
      "source": [
        "# 1D array\n",
        "arr = np.array([10, 20, 30, 40, 50, 60])\n",
        "print(arr[1:4]) \n",
        "print(arr[:3])  \n",
        "print(arr[::2]) \n",
        "print(arr[::-1])"
      ]
    },
    {
      "cell_type": "code",
      "execution_count": 23,
      "metadata": {},
      "outputs": [
        {
          "name": "stdout",
          "output_type": "stream",
          "text": [
            "[[2 3]\n",
            " [5 6]]\n",
            "[2 5 8]\n",
            "[4 5 6]\n",
            "[[9 8 7]\n",
            " [6 5 4]\n",
            " [3 2 1]]\n"
          ]
        }
      ],
      "source": [
        "# 2D array\n",
        "matrix = np.array([[1, 2, 3], \n",
        "                   [4, 5, 6], \n",
        "                   [7, 8, 9]])\n",
        "\n",
        "print(matrix[0:2, 1:3])  \n",
        "print(matrix[:, 1])      \n",
        "print(matrix[1, :])      \n",
        "print(matrix[::-1, ::-1])\n"
      ]
    },
    {
      "cell_type": "markdown",
      "metadata": {
        "id": "oRB1lxG6v-4a"
      },
      "source": [
        "#### **Arithmetic Operations on Numpy Array (Element Wise operation)**"
      ]
    },
    {
      "cell_type": "code",
      "execution_count": 24,
      "metadata": {
        "colab": {
          "base_uri": "https://localhost:8080/"
        },
        "id": "J46XE_pbv9FG",
        "outputId": "4943e1d0-7400-4831-dcfd-37c6e4e82936"
      },
      "outputs": [
        {
          "name": "stdout",
          "output_type": "stream",
          "text": [
            "[16  7  9]\n",
            "[ 8 -3 -3]\n",
            "[48 10 18]\n",
            "[3 0 0]\n"
          ]
        }
      ],
      "source": [
        "\n",
        "a=np.array([12,2,3])\n",
        "b=np.array([4,5,6])\n",
        "\n",
        "print(a+b)\n",
        "print(a-b)\n",
        "print(a*b)\n",
        "print(a//b)"
      ]
    },
    {
      "cell_type": "markdown",
      "metadata": {},
      "source": [
        "#### Aggregate Functions\n",
        "- NumPy provides built-in functions to compute aggregate values."
      ]
    },
    {
      "cell_type": "code",
      "execution_count": 25,
      "metadata": {},
      "outputs": [
        {
          "name": "stdout",
          "output_type": "stream",
          "text": [
            "150\n",
            "10\n",
            "50\n",
            "30.0\n",
            "30.0\n",
            "14.142135623730951\n"
          ]
        }
      ],
      "source": [
        "arr = np.array([10, 20, 30, 40, 50])\n",
        "\n",
        "print(np.sum(arr))   \n",
        "print(np.min(arr))   \n",
        "print(np.max(arr))   \n",
        "print(np.mean(arr))  \n",
        "print(np.median(arr))\n",
        "print(np.std(arr))  "
      ]
    },
    {
      "cell_type": "markdown",
      "metadata": {},
      "source": [
        "#### Broadcasting in NumPy\n",
        "- Broadcasting allows NumPy to perform operations between arrays of different shapes efficiently."
      ]
    },
    {
      "cell_type": "code",
      "execution_count": 26,
      "metadata": {},
      "outputs": [
        {
          "name": "stdout",
          "output_type": "stream",
          "text": [
            "[11 12 13 14]\n"
          ]
        }
      ],
      "source": [
        "arr = np.array([1, 2, 3, 4])\n",
        "print(arr + 10)  "
      ]
    },
    {
      "cell_type": "code",
      "execution_count": 27,
      "metadata": {},
      "outputs": [
        {
          "name": "stdout",
          "output_type": "stream",
          "text": [
            "[[11 22 33]\n",
            " [14 25 36]]\n"
          ]
        }
      ],
      "source": [
        "matrix = np.array([[1, 2, 3], [4, 5, 6]])\n",
        "vector = np.array([10, 20, 30])\n",
        "\n",
        "print(matrix + vector)  "
      ]
    },
    {
      "cell_type": "markdown",
      "metadata": {},
      "source": [
        "#### matrix operations\n",
        "- NumPy provides built-in functions for matrix operations."
      ]
    },
    {
      "cell_type": "code",
      "execution_count": 28,
      "metadata": {},
      "outputs": [
        {
          "name": "stdout",
          "output_type": "stream",
          "text": [
            "[[19 22]\n",
            " [43 50]]\n",
            "[[19 22]\n",
            " [43 50]]\n",
            "[[1 3]\n",
            " [2 4]]\n"
          ]
        }
      ],
      "source": [
        "A = np.array([[1, 2], [3, 4]])\n",
        "B = np.array([[5, 6], [7, 8]])\n",
        "\n",
        "print(np.dot(A, B))  # Matrix multiplication\n",
        "print(A @ B)         # Alternative matrix multiplication\n",
        "print(A.T)           # Transpose of A"
      ]
    },
    {
      "cell_type": "markdown",
      "metadata": {
        "id": "F6Lk9pFkwRkd"
      },
      "source": [
        "### **some universal functions in numpy**"
      ]
    },
    {
      "cell_type": "code",
      "execution_count": null,
      "metadata": {
        "colab": {
          "base_uri": "https://localhost:8080/"
        },
        "id": "d18aPkyPwYxg",
        "outputId": "8a3bc1a2-f178-4219-afe5-4b3fd99a8230"
      },
      "outputs": [
        {
          "name": "stdout",
          "output_type": "stream",
          "text": [
            "[[1.         1.41421356 1.73205081]\n",
            " [1.         1.41421356 4.        ]]\n"
          ]
        }
      ],
      "source": [
        "#Square Root\n",
        "a=np.array([[1,2,3],[1,2,16]])\n",
        "\n",
        "a=np.sqrt(a)\n",
        "print(a)"
      ]
    },
    {
      "cell_type": "code",
      "execution_count": null,
      "metadata": {
        "colab": {
          "base_uri": "https://localhost:8080/"
        },
        "id": "0uc2_h8GwdLB",
        "outputId": "96729f1a-08fa-4d78-bc19-def736b1db80"
      },
      "outputs": [
        {
          "data": {
            "text/plain": [
              "array([ 2.71828183,  7.3890561 , 20.08553692])"
            ]
          },
          "execution_count": 15,
          "metadata": {},
          "output_type": "execute_result"
        }
      ],
      "source": [
        "#Exponencial e^X(E KI POWER ELEMENT OF ARRAY)\n",
        "\n",
        "\n",
        "a=np.array([1,2,3])\n",
        "\n",
        "np.exp(a)"
      ]
    },
    {
      "cell_type": "code",
      "execution_count": null,
      "metadata": {
        "colab": {
          "base_uri": "https://localhost:8080/"
        },
        "id": "VB7mYL4uwi0m",
        "outputId": "8a175eb1-c2b1-4ce1-cc38-93b3d7f99f9e"
      },
      "outputs": [
        {
          "data": {
            "text/plain": [
              "array([1.        , 4.60517019])"
            ]
          },
          "execution_count": 16,
          "metadata": {},
          "output_type": "execute_result"
        }
      ],
      "source": [
        "#Logarithmic (e base)\n",
        "a=np.array([2.71828183,100])\n",
        "np.log(a)"
      ]
    },
    {
      "cell_type": "code",
      "execution_count": null,
      "metadata": {
        "colab": {
          "base_uri": "https://localhost:8080/"
        },
        "id": "zs3DTmSgwmYT",
        "outputId": "48790bde-efa9-4143-a602-573439e63e75"
      },
      "outputs": [
        {
          "name": "stdout",
          "output_type": "stream",
          "text": [
            "[1.  0.  0.5]\n"
          ]
        }
      ],
      "source": [
        "\n",
        "a=np.array([90,0,30])\n",
        "radians = np.radians(a)  # Degrees ko Radians me convert karna zaroori hai\n",
        "# print(radians)\n",
        "\n",
        "[]\n",
        "#Sin\n",
        "sini=np.sin(radians)\n",
        "print(sini)\n",
        "\n",
        "\n",
        "\n",
        "\n"
      ]
    },
    {
      "cell_type": "code",
      "execution_count": null,
      "metadata": {
        "colab": {
          "base_uri": "https://localhost:8080/"
        },
        "id": "WHZUqxBowwcJ",
        "outputId": "42ab0c73-c982-4dec-8508-8aa652c4c969"
      },
      "outputs": [
        {
          "name": "stdout",
          "output_type": "stream",
          "text": [
            "21\n",
            "[ 6 15]\n"
          ]
        }
      ],
      "source": [
        "#sum\n",
        "\n",
        "a = np.array([\n",
        "    [1, 2, 3],\n",
        "    [4, 5, 6]\n",
        "])\n",
        "\n",
        "#Collumn Wise\n",
        "print(np.sum(a))\n",
        "\n",
        "#Row Wise\n",
        "print(np.sum(a, axis=1))"
      ]
    },
    {
      "cell_type": "code",
      "execution_count": null,
      "metadata": {
        "colab": {
          "base_uri": "https://localhost:8080/"
        },
        "id": "yn--_-Ybw0_7",
        "outputId": "2c989801-36a3-4bae-cc3b-44a85cf4459f"
      },
      "outputs": [
        {
          "name": "stdout",
          "output_type": "stream",
          "text": [
            "3.5\n",
            "[2.5 3.5 4.5]\n",
            "[2. 5.]\n"
          ]
        }
      ],
      "source": [
        "#Mean\n",
        "print(np.mean(a))  # Poore array ka mean\n",
        "print(np.mean(a, axis=0))  # Column-wise mean\n",
        "print(np.mean(a, axis=1))  # Row-wise mean\n",
        "\n"
      ]
    },
    {
      "cell_type": "code",
      "execution_count": null,
      "metadata": {
        "colab": {
          "base_uri": "https://localhost:8080/"
        },
        "id": "P_NypAOWw2s1",
        "outputId": "c332bd7a-f5bb-4be7-82d7-940ec87734d4"
      },
      "outputs": [
        {
          "name": "stdout",
          "output_type": "stream",
          "text": [
            "3.5\n",
            "[2.5 3.5 4.5]\n",
            "[2. 5.]\n"
          ]
        }
      ],
      "source": [
        "#Median\n",
        "print(np.median(a))  # Poore array ka median\n",
        "print(np.median(a, axis=0))  # Column-wise median\n",
        "print(np.median(a, axis=1))  # Row-wise median"
      ]
    },
    {
      "cell_type": "code",
      "execution_count": null,
      "metadata": {
        "colab": {
          "base_uri": "https://localhost:8080/"
        },
        "id": "9DU2Oap2w457",
        "outputId": "ebf76324-39d7-426e-b168-21dcb87f16f1"
      },
      "outputs": [
        {
          "name": "stdout",
          "output_type": "stream",
          "text": [
            "1.707825127659933\n",
            "[1.5 1.5 1.5]\n",
            "[0.81649658 0.81649658]\n"
          ]
        }
      ],
      "source": [
        "\n",
        "#Deviation\n",
        "\n",
        "print(np.std(a))  # Poore array ka standard deviation\n",
        "print(np.std(a, axis=0))  # Column-wise std dev\n",
        "print(np.std(a, axis=1))  # Row-wise std dev"
      ]
    },
    {
      "cell_type": "code",
      "execution_count": null,
      "metadata": {
        "colab": {
          "base_uri": "https://localhost:8080/"
        },
        "id": "x5U_-Cwpw6Z8",
        "outputId": "2d150819-4b77-443a-95d4-472d57d1a997"
      },
      "outputs": [
        {
          "name": "stdout",
          "output_type": "stream",
          "text": [
            "2.9166666666666665\n",
            "[2.25 2.25 2.25]\n",
            "[0.66666667 0.66666667]\n"
          ]
        }
      ],
      "source": [
        "#variance\n",
        "print(np.var(a))  # Poore array ka variance\n",
        "print(np.var(a, axis=0))  # Column-wise variance\n",
        "print(np.var(a, axis=1))  # Row-wise variance"
      ]
    },
    {
      "cell_type": "markdown",
      "metadata": {},
      "source": [
        "#### Sorting an Array"
      ]
    },
    {
      "cell_type": "code",
      "execution_count": 29,
      "metadata": {},
      "outputs": [
        {
          "name": "stdout",
          "output_type": "stream",
          "text": [
            "[1 2 3 5 8]\n"
          ]
        }
      ],
      "source": [
        "arr = np.array([5, 3, 8, 1, 2])\n",
        "print(np.sort(arr)) "
      ]
    },
    {
      "cell_type": "code",
      "execution_count": 30,
      "metadata": {},
      "outputs": [
        {
          "name": "stdout",
          "output_type": "stream",
          "text": [
            "[[3 2 1]\n",
            " [6 5 4]]\n",
            "[[1 2 3]\n",
            " [4 5 6]]\n"
          ]
        }
      ],
      "source": [
        "# sorting in 2d array\n",
        "matrix = np.array([[3, 2, 1], [6, 5, 4]])\n",
        "print(np.sort(matrix, axis=0))  # Column-wise sorting\n",
        "print(np.sort(matrix, axis=1))  # Row-wise sorting"
      ]
    },
    {
      "cell_type": "markdown",
      "metadata": {},
      "source": [
        "#### searching for an element"
      ]
    },
    {
      "cell_type": "code",
      "execution_count": 31,
      "metadata": {},
      "outputs": [
        {
          "name": "stdout",
          "output_type": "stream",
          "text": [
            "(array([2, 3, 4]),)\n"
          ]
        }
      ],
      "source": [
        "arr = np.array([10, 20, 30, 40, 50])\n",
        "print(np.where(arr > 25))  # Output: (array([2, 3, 4]),) → Indexes where condition is met\n"
      ]
    },
    {
      "cell_type": "markdown",
      "metadata": {},
      "source": [
        "## Numpy Practise Questions\n",
        "- Create a 1D, 2D, and 3D NumPy array.\n",
        "- Access the first row and last column of a 2D array.\n",
        "- Perform element-wise addition, subtraction, and multiplication on two arrays.\n",
        "- Find the sum, mean, min, max, and standard deviation of an array.\n",
        "- Reshape a 1D array into a 3×3 matrix.\n",
        "- Sort an array in ascending order.\n",
        "- Generate a 2×3 matrix of random numbers.\n",
        "- Find unique elements in an array.\n",
        "- Multiply two matrices using np.dot().\n",
        "- Find the inverse of a square matrix."
      ]
    }
  ],
  "metadata": {
    "colab": {
      "provenance": []
    },
    "kernelspec": {
      "display_name": ".venv",
      "language": "python",
      "name": "python3"
    },
    "language_info": {
      "codemirror_mode": {
        "name": "ipython",
        "version": 3
      },
      "file_extension": ".py",
      "mimetype": "text/x-python",
      "name": "python",
      "nbconvert_exporter": "python",
      "pygments_lexer": "ipython3",
      "version": "3.10.1"
    }
  },
  "nbformat": 4,
  "nbformat_minor": 0
}
