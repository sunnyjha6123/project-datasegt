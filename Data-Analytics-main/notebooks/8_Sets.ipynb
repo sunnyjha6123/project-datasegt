{
 "cells": [
  {
   "cell_type": "markdown",
   "metadata": {},
   "source": [
    "# Sets\n",
    "### Introduction to Sets\n",
    "A set in Python is an unordered collection of unique elements. Unlike lists and tuples, sets do not allow duplicate values and do not maintain order.\n",
    "\n",
    "Key Features of Sets:\n",
    "- Unordered – Elements have no specific order.\n",
    "- Unique Elements – No duplicates allowed.\n",
    "- Mutable – Can add or remove elements.\n",
    "- Supports Set Operations – Like union, intersection, difference, etc."
   ]
  },
  {
   "cell_type": "markdown",
   "metadata": {},
   "source": [
    "Creating Sets"
   ]
  },
  {
   "cell_type": "code",
   "execution_count": 1,
   "metadata": {},
   "outputs": [
    {
     "name": "stdout",
     "output_type": "stream",
     "text": [
      "{'apple', 'banana', 'mango'}\n"
     ]
    }
   ],
   "source": [
    "##Using Curly Braces {}\n",
    "fruits = {\"apple\", \"banana\", \"mango\"}\n",
    "print(fruits)"
   ]
  },
  {
   "cell_type": "code",
   "execution_count": 2,
   "metadata": {},
   "outputs": [
    {
     "name": "stdout",
     "output_type": "stream",
     "text": [
      "{1, 2, 3, 4, 5}\n"
     ]
    }
   ],
   "source": [
    "# Using set() Constructor\n",
    "numbers = set([1, 2, 3, 3, 4, 5])\n",
    "print(numbers) "
   ]
  },
  {
   "cell_type": "code",
   "execution_count": 3,
   "metadata": {},
   "outputs": [
    {
     "name": "stdout",
     "output_type": "stream",
     "text": [
      "<class 'set'>\n",
      "<class 'dict'>\n"
     ]
    }
   ],
   "source": [
    "#Creating an Empty Set (⚠️ Important ⚠️)\n",
    "empty_set = set()  # Correct way to create an empty set\n",
    "print(type(empty_set))  # Output: <class 'set'>\n",
    "\n",
    "wrong_set = {}  # This creates a dictionary, NOT a set\n",
    "print(type(wrong_set))  # Output: <class 'dict'>"
   ]
  },
  {
   "cell_type": "markdown",
   "metadata": {},
   "source": [
    "Accessing Elements in a Set\n",
    "- Sets do not support indexing because they are unordered. However, we can iterate through a set using a loop."
   ]
  },
  {
   "cell_type": "code",
   "execution_count": 4,
   "metadata": {},
   "outputs": [
    {
     "name": "stdout",
     "output_type": "stream",
     "text": [
      "40\n",
      "10\n",
      "20\n",
      "30\n"
     ]
    }
   ],
   "source": [
    "my_set = {10, 20, 30, 40}\n",
    "for item in my_set:\n",
    "    print(item)"
   ]
  },
  {
   "cell_type": "markdown",
   "metadata": {},
   "source": [
    "Adding and Removing Elements in a Set"
   ]
  },
  {
   "cell_type": "code",
   "execution_count": 5,
   "metadata": {},
   "outputs": [
    {
     "name": "stdout",
     "output_type": "stream",
     "text": [
      "{1, 2, 3, 4}\n"
     ]
    }
   ],
   "source": [
    "#add() – Adding Elements\n",
    "s = {1, 2, 3}\n",
    "s.add(4)\n",
    "print(s) "
   ]
  },
  {
   "cell_type": "code",
   "execution_count": 6,
   "metadata": {},
   "outputs": [
    {
     "name": "stdout",
     "output_type": "stream",
     "text": [
      "{1, 2, 3, 4, 5, 6, 7}\n"
     ]
    }
   ],
   "source": [
    "## update() – Adding Multiple Elements\n",
    "s.update([5, 6, 7])\n",
    "print(s) "
   ]
  },
  {
   "cell_type": "code",
   "execution_count": 7,
   "metadata": {},
   "outputs": [
    {
     "name": "stdout",
     "output_type": "stream",
     "text": [
      "{1, 4, 5, 6, 7}\n"
     ]
    }
   ],
   "source": [
    "#remove() and discard() – Removing Elements\n",
    "s.remove(2)  # Removes 2, raises an error if not found\n",
    "s.discard(3)  # Removes 3, does NOT raise an error if not found\n",
    "print(s)"
   ]
  },
  {
   "cell_type": "code",
   "execution_count": 8,
   "metadata": {},
   "outputs": [
    {
     "name": "stdout",
     "output_type": "stream",
     "text": [
      "1\n"
     ]
    }
   ],
   "source": [
    "#pop() – Removing a Random Element\n",
    "value = s.pop()\n",
    "print(value) "
   ]
  },
  {
   "cell_type": "code",
   "execution_count": 9,
   "metadata": {},
   "outputs": [
    {
     "name": "stdout",
     "output_type": "stream",
     "text": [
      "set()\n"
     ]
    }
   ],
   "source": [
    "## clear() – Removing All Elements\n",
    "s.clear()\n",
    "print(s) "
   ]
  },
  {
   "cell_type": "markdown",
   "metadata": {},
   "source": [
    "### Set Operations (Union, Intersection, Difference)"
   ]
  },
  {
   "cell_type": "code",
   "execution_count": 13,
   "metadata": {},
   "outputs": [
    {
     "name": "stdout",
     "output_type": "stream",
     "text": [
      "{1, 2, 3, 4, 5}\n",
      "{1, 2, 3, 4, 5}\n"
     ]
    }
   ],
   "source": [
    "A = {1, 2, 3}\n",
    "B = {3, 4, 5}\n",
    "\n",
    "## Union (| or union()) – Combines Elements\n",
    "print(A | B)\n",
    "union_set=A.union(B)\n",
    "print(union_set)\n",
    "\n"
   ]
  },
  {
   "cell_type": "markdown",
   "metadata": {},
   "source": [
    "Intersection (& or intersection()) – Common Elements"
   ]
  },
  {
   "cell_type": "code",
   "execution_count": 14,
   "metadata": {},
   "outputs": [
    {
     "name": "stdout",
     "output_type": "stream",
     "text": [
      "{3}\n",
      "{3}\n"
     ]
    }
   ],
   "source": [
    "print(A & B)  \n",
    "print(A.intersection(B))"
   ]
  },
  {
   "cell_type": "markdown",
   "metadata": {},
   "source": [
    "Difference (- or difference()) – Elements in A but not in B"
   ]
  },
  {
   "cell_type": "code",
   "execution_count": 15,
   "metadata": {},
   "outputs": [
    {
     "name": "stdout",
     "output_type": "stream",
     "text": [
      "{1, 2}\n",
      "{1, 2}\n"
     ]
    }
   ],
   "source": [
    "print(A - B)  \n",
    "print(A.difference(B)) "
   ]
  },
  {
   "cell_type": "markdown",
   "metadata": {},
   "source": [
    "Symmetric Difference (^ or symmetric_difference()) – Elements in A or B but not both"
   ]
  },
  {
   "cell_type": "code",
   "execution_count": 16,
   "metadata": {},
   "outputs": [
    {
     "name": "stdout",
     "output_type": "stream",
     "text": [
      "{1, 2, 4, 5}\n",
      "{1, 2, 4, 5}\n"
     ]
    }
   ],
   "source": [
    "print(A ^ B)  \n",
    "print(A.symmetric_difference(B))"
   ]
  },
  {
   "cell_type": "code",
   "execution_count": 17,
   "metadata": {},
   "outputs": [
    {
     "name": "stdout",
     "output_type": "stream",
     "text": [
      "False\n",
      "True\n"
     ]
    }
   ],
   "source": [
    "## Sets Methods\n",
    "set1={1,2,3,4,5}\n",
    "set2={3,4,5}\n",
    "\n",
    "## is subset\n",
    "print(set1.issubset(set2))\n",
    "\n",
    "print(set1.issuperset(set2))"
   ]
  },
  {
   "cell_type": "code",
   "execution_count": 20,
   "metadata": {},
   "outputs": [
    {
     "name": "stdout",
     "output_type": "stream",
     "text": [
      "{'we', 'are', 'discussing', 'sets', 'about', 'Here'}\n",
      "6\n"
     ]
    }
   ],
   "source": [
    "### Counting Unique words in text\n",
    "\n",
    "text=\"Here we are discussing about sets\"\n",
    "words=text.split()\n",
    "\n",
    "## convert list of words to set to get unique words\n",
    "\n",
    "unique_words=set(words)\n",
    "print(unique_words)\n",
    "print(len(unique_words))"
   ]
  },
  {
   "cell_type": "markdown",
   "metadata": {},
   "source": [
    "#### Conclusion\n",
    "Python sets are powerful and efficient for handling unique elements and performing set operations. They provide fast membership testing and are useful in mathematical computations, data cleaning, and real-world applications. However, since sets are unordered, indexing operations are not supported. Understanding sets helps in writing efficient and optimized code. "
   ]
  },
  {
   "cell_type": "markdown",
   "metadata": {},
   "source": [
    "# Python Sets - Practice Questions\n",
    "\n",
    "- Task 1: Create a set with at least five elements.\n",
    "\n",
    "- Task 2: Add a new element to the set.\n",
    "\n",
    "- Task 3: Remove an element from the set using both remove() and discard().\n",
    "\n",
    "- Task 4: Try to remove a non-existing element using discard() and remove(), and observe the difference.\n",
    "\n",
    "- Task 5: Perform union and intersection on two sets {1, 2, 3, 4} and {3, 4, 5, 6}.\n",
    "\n",
    "- Task 6: Find the difference between two sets {10, 20, 30, 40} and {30, 40, 50, 60}."
   ]
  }
 ],
 "metadata": {
  "kernelspec": {
   "display_name": ".venv",
   "language": "python",
   "name": "python3"
  },
  "language_info": {
   "codemirror_mode": {
    "name": "ipython",
    "version": 3
   },
   "file_extension": ".py",
   "mimetype": "text/x-python",
   "name": "python",
   "nbconvert_exporter": "python",
   "pygments_lexer": "ipython3",
   "version": "3.10.1"
  }
 },
 "nbformat": 4,
 "nbformat_minor": 2
}
