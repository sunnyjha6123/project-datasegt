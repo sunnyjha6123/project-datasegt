{
 "cells": [
  {
   "cell_type": "markdown",
   "metadata": {},
   "source": [
    "### Conditional Statements in Python\n",
    "\n",
    "Conditional statements in Python allow you to execute certain pieces of code based on whether a condition is true or false. The primary conditional statements in Python are `if`, `elif`, and `else`.\n",
    "\n",
    "1. **if statement**: This statement evaluates a condition and executes the block of code within it if the condition is true.\n",
    "    ```python\n",
    "    if condition:\n",
    "        # code to execute if condition is true\n",
    "    ```\n"
   ]
  },
  {
   "cell_type": "code",
   "execution_count": 7,
   "metadata": {},
   "outputs": [
    {
     "name": "stdout",
     "output_type": "stream",
     "text": [
      "Smaller\n",
      "end\n"
     ]
    }
   ],
   "source": [
    "x = 5\n",
    "if x < 10:\n",
    "    print('Smaller')\n",
    "if x > 20:\n",
    "    print('Bigger')\n",
    "\n",
    "print('end')\n"
   ]
  },
  {
   "cell_type": "markdown",
   "metadata": {},
   "source": [
    "2. **elif statement**: Short for \"else if\", this statement allows you to check multiple expressions for true and execute a block of code as soon as one of the conditions is true.\n",
    "    ```python\n",
    "    if condition1:\n",
    "        # code to execute if condition1 is true\n",
    "    elif condition2:\n",
    "        # code to execute if condition2 is true\n",
    "    ```\n"
   ]
  },
  {
   "cell_type": "code",
   "execution_count": 8,
   "metadata": {},
   "outputs": [
    {
     "name": "stdout",
     "output_type": "stream",
     "text": [
      "medium\n",
      "all done\n"
     ]
    }
   ],
   "source": [
    "x=5\n",
    "if x < 2:\n",
    "    print('small')\n",
    "elif x < 10:\n",
    "    print('medium')\n",
    "\n",
    "print('all done')"
   ]
  },
  {
   "cell_type": "markdown",
   "metadata": {},
   "source": [
    "\n",
    "3. **else statement**: This statement catches anything which isn't caught by the preceding conditions.\n",
    "    ```python\n",
    "    if condition1:\n",
    "        # code to execute if condition1 is true\n",
    "    elif condition2:\n",
    "        # code to execute if condition2 is true\n",
    "    else:\n",
    "        # code to execute if none of the above conditions are true\n",
    "    ```\n",
    "\n",
    "\n"
   ]
  },
  {
   "cell_type": "code",
   "execution_count": 9,
   "metadata": {},
   "outputs": [
    {
     "name": "stdout",
     "output_type": "stream",
     "text": [
      "medium\n",
      "all done\n"
     ]
    }
   ],
   "source": [
    "x=8\n",
    "if x < 2:\n",
    "    print('small')\n",
    "elif x < 10:\n",
    "    print('medium')\n",
    "else :       \n",
    "    print('large')\n",
    "print('all done')\n"
   ]
  },
  {
   "cell_type": "markdown",
   "metadata": {},
   "source": [
    "# check if a number is positive, negative, or zero"
   ]
  },
  {
   "cell_type": "code",
   "execution_count": 10,
   "metadata": {},
   "outputs": [
    {
     "name": "stdout",
     "output_type": "stream",
     "text": [
      "x is positive and less than 5\n"
     ]
    }
   ],
   "source": [
    "\n",
    "x = 1\n",
    "if x > 0:\n",
    "    if x<5:\n",
    "        print(\"x is positive and less than 5\")\n",
    "    #print(\"x is positive\")\n",
    "elif x == 0:\n",
    "    print(\"x is zero\")\n",
    "else:\n",
    "    print(\"x is negative\")\n",
    "\n"
   ]
  },
  {
   "cell_type": "code",
   "execution_count": null,
   "metadata": {},
   "outputs": [],
   "source": []
  },
  {
   "cell_type": "code",
   "execution_count": 11,
   "metadata": {},
   "outputs": [
    {
     "name": "stdout",
     "output_type": "stream",
     "text": [
      "j is a consonant\n"
     ]
    }
   ],
   "source": [
    "# check if alphabet is a vowel or consonant\n",
    "# input an alphabet from the user\n",
    "alphabet = input(\"Enter an alphabet: \").lower()\n",
    "\n",
    "# check if the input is a vowel or consonant\n",
    "if alphabet in ['a', 'e', 'i', 'o', 'u']:\n",
    "    print(f\"{alphabet} is a vowel\")\n",
    "else:\n",
    "    print(f\"{alphabet} is a consonant\")"
   ]
  },
  {
   "cell_type": "code",
   "execution_count": null,
   "metadata": {},
   "outputs": [],
   "source": []
  },
  {
   "cell_type": "markdown",
   "metadata": {},
   "source": [
    "## Basic Questions for better understanding"
   ]
  },
  {
   "cell_type": "code",
   "execution_count": 7,
   "metadata": {},
   "outputs": [
    {
     "name": "stdout",
     "output_type": "stream",
     "text": [
      "7 is not a multiple of 5\n"
     ]
    }
   ],
   "source": [
    "x=int(input(\"enter any number\"))\n",
    "#check whether the given integer is a multiple of 5\n",
    "if x % 5 == 0:\n",
    "    print(f\"{x} is a multiple of 5\")\n",
    "else:\n",
    "    print(f\"{x} is not a multiple of 5\")"
   ]
  },
  {
   "cell_type": "code",
   "execution_count": 12,
   "metadata": {},
   "outputs": [
    {
     "name": "stdout",
     "output_type": "stream",
     "text": [
      "10 is even\n"
     ]
    }
   ],
   "source": [
    "# check if the number is even or odd\n",
    "if x % 2 == 0:\n",
    "    print(f\"{x} is even\")\n",
    "else:\n",
    "    print(f\"{x} is odd\")"
   ]
  },
  {
   "cell_type": "code",
   "execution_count": 12,
   "metadata": {},
   "outputs": [
    {
     "name": "stdout",
     "output_type": "stream",
     "text": [
      "1500 is not a leap year\n"
     ]
    }
   ],
   "source": [
    "# check if the year is a leap year\n",
    "year = 1500  # you can change this value to test other years\n",
    "\n",
    "if (year % 4 == 0 and year % 100 != 0) or (year % 400 == 0):\n",
    "    print(f\"{year} is a leap year\")\n",
    "else:\n",
    "    print(f\"{year} is not a leap year\")"
   ]
  }
 ],
 "metadata": {
  "kernelspec": {
   "display_name": ".venv",
   "language": "python",
   "name": "python3"
  },
  "language_info": {
   "codemirror_mode": {
    "name": "ipython",
    "version": 3
   },
   "file_extension": ".py",
   "mimetype": "text/x-python",
   "name": "python",
   "nbconvert_exporter": "python",
   "pygments_lexer": "ipython3",
   "version": "3.10.1"
  }
 },
 "nbformat": 4,
 "nbformat_minor": 2
}
