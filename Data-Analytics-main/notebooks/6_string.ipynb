{
 "cells": [
  {
   "cell_type": "markdown",
   "metadata": {},
   "source": [
    "# String\n",
    "## Introduction to Strings\n",
    "A string in Python is a sequence of characters enclosed in single ('), double (\") or triple (''' \"\"\") quotes. Strings are immutable, meaning their contents cannot be changed after creation.\n",
    "\n",
    "Key Features of Strings:\n",
    "- Immutable – Once created, they cannot be modified.\n",
    "- Ordered – Supports indexing and slicing.\n",
    "- Supports Iteration – Can loop through characters.\n",
    "- Supports Built-in Methods – String manipulation functions available.\n"
   ]
  },
  {
   "cell_type": "markdown",
   "metadata": {},
   "source": [
    "Creating String"
   ]
  },
  {
   "cell_type": "code",
   "execution_count": 3,
   "metadata": {},
   "outputs": [
    {
     "name": "stdout",
     "output_type": "stream",
     "text": [
      "Hello World Python is fun!\n",
      "Hello\n",
      "World\n",
      "Python is fun!\n"
     ]
    }
   ],
   "source": [
    "# using Quotes\n",
    "string1 = 'Hello'\n",
    "string2 = \"World\"\n",
    "string3 = '''Python is fun!'''\n",
    "print(string1, string2, string3) \n",
    "print(string1)\n",
    "print(string2)\n",
    "print(string3)"
   ]
  },
  {
   "cell_type": "code",
   "execution_count": 4,
   "metadata": {},
   "outputs": [
    {
     "name": "stdout",
     "output_type": "stream",
     "text": [
      "100\n"
     ]
    }
   ],
   "source": [
    "# Using str() Constructor\n",
    "num = 100\n",
    "string_num = str(num)\n",
    "print(string_num)"
   ]
  },
  {
   "cell_type": "markdown",
   "metadata": {},
   "source": [
    "Accessing Characters in a String\n",
    "\n",
    " - Indexing (0-based index)"
   ]
  },
  {
   "cell_type": "code",
   "execution_count": null,
   "metadata": {},
   "outputs": [
    {
     "name": "stdout",
     "output_type": "stream",
     "text": [
      "P\n",
      "n\n"
     ]
    }
   ],
   "source": [
    "\n",
    "text = \"Python\"\n",
    "print(text[0])   \n",
    "print(text[-1])"
   ]
  },
  {
   "cell_type": "markdown",
   "metadata": {},
   "source": [
    "- Slicing (Substring Extraction)"
   ]
  },
  {
   "cell_type": "code",
   "execution_count": 6,
   "metadata": {},
   "outputs": [
    {
     "name": "stdout",
     "output_type": "stream",
     "text": [
      "yth\n",
      "Pyt\n",
      "hon\n"
     ]
    }
   ],
   "source": [
    "print(text[1:4])\n",
    "print(text[:3]) \n",
    "print(text[3:]) "
   ]
  },
  {
   "cell_type": "markdown",
   "metadata": {},
   "source": [
    "String Concatenation and Repetition"
   ]
  },
  {
   "cell_type": "code",
   "execution_count": 7,
   "metadata": {},
   "outputs": [
    {
     "name": "stdout",
     "output_type": "stream",
     "text": [
      "Hello World\n"
     ]
    }
   ],
   "source": [
    "# Concatenation\n",
    "a = \"Hello\"\n",
    "b = \" World\"\n",
    "print(a + b) "
   ]
  },
  {
   "cell_type": "code",
   "execution_count": 8,
   "metadata": {},
   "outputs": [
    {
     "name": "stdout",
     "output_type": "stream",
     "text": [
      "Python! Python! Python! \n"
     ]
    }
   ],
   "source": [
    "# Repetition\n",
    "print(\"Python! \" * 3)"
   ]
  },
  {
   "cell_type": "markdown",
   "metadata": {},
   "source": [
    "# String Methods"
   ]
  },
  {
   "cell_type": "code",
   "execution_count": 9,
   "metadata": {},
   "outputs": [
    {
     "name": "stdout",
     "output_type": "stream",
     "text": [
      "HELLO PYTHON\n",
      "hello python\n"
     ]
    }
   ],
   "source": [
    "# upper() - Converts all characters in the string to uppercase\n",
    "# lower() - Converts all characters in the string to lowercase\n",
    "text = \"Hello Python\"\n",
    "print(text.upper())  \n",
    "print(text.lower())"
   ]
  },
  {
   "cell_type": "code",
   "execution_count": 14,
   "metadata": {},
   "outputs": [
    {
     "name": "stdout",
     "output_type": "stream",
     "text": [
      "Title case: Python Is Fun\n"
     ]
    }
   ],
   "source": [
    "# title() - Converts the first character of each word to uppercase\n",
    "text=\"python is fun\"\n",
    "title_case_string = text.title()\n",
    "print(\"Title case:\", title_case_string)"
   ]
  },
  {
   "cell_type": "code",
   "execution_count": 15,
   "metadata": {},
   "outputs": [
    {
     "name": "stdout",
     "output_type": "stream",
     "text": [
      "Capitalized: Python is fun\n"
     ]
    }
   ],
   "source": [
    "# capitalize() - Converts the first character of the string to uppercase\n",
    "text=\"python is fun\"\n",
    "capitalized_string = text.capitalize()\n",
    "print(\"Capitalized:\", capitalized_string)"
   ]
  },
  {
   "cell_type": "code",
   "execution_count": 10,
   "metadata": {},
   "outputs": [
    {
     "name": "stdout",
     "output_type": "stream",
     "text": [
      "Python\n"
     ]
    }
   ],
   "source": [
    "# strip() - Removes leading and trailing whitespace (or specified characters)\n",
    "text = \"  Python  \"\n",
    "print(text.strip())"
   ]
  },
  {
   "cell_type": "code",
   "execution_count": 16,
   "metadata": {},
   "outputs": [
    {
     "name": "stdout",
     "output_type": "stream",
     "text": [
      "7\n"
     ]
    }
   ],
   "source": [
    "# find() - Returns the index of the first occurrence of a substring, or -1 if not found\n",
    "text = \"Hello, Python!\"\n",
    "print(text.find(\"Python\")) "
   ]
  },
  {
   "cell_type": "code",
   "execution_count": 11,
   "metadata": {},
   "outputs": [
    {
     "name": "stdout",
     "output_type": "stream",
     "text": [
      "I love Python\n"
     ]
    }
   ],
   "source": [
    "# replace() - Replaces all occurrences of a substring with another substring\n",
    "text = \"I love Java\"\n",
    "print(text.replace(\"Java\", \"Python\"))"
   ]
  },
  {
   "cell_type": "code",
   "execution_count": 12,
   "metadata": {},
   "outputs": [
    {
     "name": "stdout",
     "output_type": "stream",
     "text": [
      "['apple', 'banana', 'mango']\n"
     ]
    }
   ],
   "source": [
    "# split() - Splits the string into a list of substrings based on a delimiter\n",
    "text = \"apple,banana,mango\"\n",
    "print(text.split(\",\")) "
   ]
  },
  {
   "cell_type": "code",
   "execution_count": 13,
   "metadata": {},
   "outputs": [
    {
     "name": "stdout",
     "output_type": "stream",
     "text": [
      "Python is awesome\n"
     ]
    }
   ],
   "source": [
    "# join() - Joins a list of strings into a single string with a specified delimiter\n",
    "words = [\"Python\", \"is\", \"awesome\"]\n",
    "print(\" \".join(words))"
   ]
  },
  {
   "cell_type": "code",
   "execution_count": 17,
   "metadata": {},
   "outputs": [
    {
     "name": "stdout",
     "output_type": "stream",
     "text": [
      "nohtyP\n"
     ]
    }
   ],
   "source": [
    "# string reversal\n",
    "text = \"Python\"\n",
    "print(text[::-1])"
   ]
  },
  {
   "cell_type": "code",
   "execution_count": 18,
   "metadata": {},
   "outputs": [
    {
     "name": "stdout",
     "output_type": "stream",
     "text": [
      "palindrome\n"
     ]
    }
   ],
   "source": [
    "# WAP to check weather a given string is palindrome or not\n",
    "\n",
    "\n",
    "s=\"NAMAN\"\n",
    "if s==s[::-1]:\n",
    "    print(\"palindrome\")\n",
    "else:\n",
    "    print(\"not palindrome\")"
   ]
  },
  {
   "cell_type": "markdown",
   "metadata": {},
   "source": [
    "## Conclusion – Python Strings\n",
    "Strings in Python are powerful, versatile, and essential for text manipulation. They support indexing, slicing, formatting, and various built-in methods for efficient text processing. Since strings are immutable, operations create new objects instead of modifying the original. Mastering string operations is crucial for tasks like data processing, web scraping, and file handling in Python. "
   ]
  },
  {
   "cell_type": "markdown",
   "metadata": {},
   "source": [
    "# Python Strings - Practice Questions\n",
    "\n",
    "- Task 1: Create a string and assign a value to it.\n",
    "- Task 2: Access the first and last character of the string.\n",
    "- Task 3: Extract a substring using slicing.\n",
    "- Task 4: Convert a string to uppercase and lowercase.\n",
    "- Task 5: Replace a word in a string with another word.\n",
    "- Task 6: Count the occurrences of a specific letter in a string.\n",
    "- Task 7: Split a string into a list based on a delimiter.\n",
    "- Task 8: Join a list of words into a single string with spaces.\n",
    "- Task 9: Reverse a string without using loops."
   ]
  },
  {
   "cell_type": "markdown",
   "metadata": {},
   "source": []
  }
 ],
 "metadata": {
  "kernelspec": {
   "display_name": ".venv",
   "language": "python",
   "name": "python3"
  },
  "language_info": {
   "codemirror_mode": {
    "name": "ipython",
    "version": 3
   },
   "file_extension": ".py",
   "mimetype": "text/x-python",
   "name": "python",
   "nbconvert_exporter": "python",
   "pygments_lexer": "ipython3",
   "version": "3.10.1"
  }
 },
 "nbformat": 4,
 "nbformat_minor": 2
}
